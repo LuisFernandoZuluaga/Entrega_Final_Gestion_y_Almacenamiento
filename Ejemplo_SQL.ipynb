{
 "cells": [
  {
   "cell_type": "markdown",
   "metadata": {
    "colab_type": "text",
    "id": "view-in-github"
   },
   "source": [
    "<a href=\"https://colab.research.google.com/github/LuisFernandoZuluaga/Entrega_Final_Gestion_y_Almacenamiento/blob/main/Ejemplo_SQL.ipynb\" target=\"_parent\"><img src=\"https://colab.research.google.com/assets/colab-badge.svg\" alt=\"Open In Colab\"/></a>"
   ]
  },
  {
   "cell_type": "code",
   "execution_count": 1,
   "metadata": {
    "colab": {
     "base_uri": "https://localhost:8080/"
    },
    "id": "UIjMM2sugsi4",
    "outputId": "a6427465-0358-44ff-a392-e6f3ded423ce"
   },
   "outputs": [
    {
     "name": "stdout",
     "output_type": "stream",
     "text": [
      "ejemplo sql\n"
     ]
    }
   ],
   "source": [
    "import sqlite3 as sql\n",
    "\n",
    "#creamos la BD\n",
    "def createDB():\n",
    "  conn=sql.connect(\"Clase.db\")#si no existe la crea\n",
    "  conn.commit()\n",
    "  conn.close()\n",
    "  print(\"Cree la base de datos\")\n",
    "\n",
    "  #Creamos la tabla\n",
    "def tableDB():\n",
    "  conn=sql.connect(\"Clase.db\")\n",
    "  cursor=conn.cursor()\n",
    "  cursor.execute(\"\"\"CREATE TABLE estudiantes(\n",
    "    id INT,\n",
    "    nombre TEXT,\n",
    "    apellido TEXT,\n",
    "    edad INT,\n",
    "    correo TEXT\n",
    "  );\"\"\")\n",
    "  conn.commit()\n",
    "  conn.close()\n",
    "  print(\"Cree la tabla\")\n",
    "\n",
    "def insertarRow(id, nombre, apellido, edad, correo):\n",
    "  conn=sql.connect(\"Clase.db\")\n",
    "  cursor=conn.cursor()\n",
    "  query=f\"INSERT INTO estudiantes VALUEs ({id},'{nombre}','{apellido}', {edad}, '{correo}');\"\n",
    "  cursor.execute(query)\n",
    "  conn.commit()\n",
    "  conn.close()\n",
    "  print(f\"Inserte el estudiante: {nombre}\")\n",
    "\n",
    "#insertar varias filas\n",
    "def insertRows(List):\n",
    "  conn=sql.connect(\"Clase.db\")\n",
    "  cursor=conn.cursor()\n",
    "  query=f\"INSERT INTO estudiantes VALUES (?,?,?,?,?);\"\n",
    "  cursor.executemany(query,List)\n",
    "  conn.commit()\n",
    "  conn.close()\n",
    "  print(\"Agregue varios estudiantes\")\n",
    "\n",
    "#Funcion para ver las filas\n",
    "def selectRows(field):\n",
    "  conn=sql.connect(\"Clase.db\")\n",
    "  cursor=conn.cursor()\n",
    "  query=f\"SELECT * FROM estudiantes ORDER By {field} DESC;\"\n",
    "  cursor.execute(query)\n",
    "  datos=cursor.fetchall()\n",
    "  conn.commit()\n",
    "  print(datos)\n",
    "  conn.close\n",
    "\n",
    "def updatefield():\n",
    "  conn=sql.connect('Clase.db')\n",
    "  cursor=conn.cursor()\n",
    "  query=f\"UPDATE estudiantes SET edad=20 WHERE nombre like 'Andres';\"\n",
    "  cursor.execute(query)\n",
    "  conn.commit()\n",
    "  conn.close()\n",
    "  print('Actualice un registro')\n",
    "\n",
    "def delete():\n",
    "  conn=sql.connect(\"Clase.db\")\n",
    "  cursor=conn.cursor()\n",
    "  query=f\"DELETE FROM estudiantes WHERE nombre like 'Andres';\"\n",
    "  cursor.execute(query)\n",
    "  conn.commit()\n",
    "  conn.close()\n",
    "  print(\"Borre un registro\")\n",
    "\n",
    "#principal\n",
    "if __name__ == \"__main__\":\n",
    "  print(\"ejemplo sql\")\n",
    "  #createDB() #se comenta porque ya se creo\n",
    "  #--------------\n",
    "  #tableDB() #Se crea la tabla\n",
    "  #-------------\n",
    "  #insertarRow(214,'Luis','Zuluaga',30, 'n@gmail.com' )\n",
    "  #------------------\n",
    "  #lista=[(215,'Luis','Zuluaga',45,'J@gmail.com'),(216,'Andres','Zuluaga',40,'J@gmail.com')]\n",
    "  #insertRows(lista)\n",
    "  #--------------------\n",
    "  #selectRows('edad')\n",
    "  #------------------\n",
    "  #updatefield()\n",
    "  #----------\n",
    "  #delete()\n",
    "  #selectRows('edad')"
   ]
  },
  {
   "cell_type": "code",
   "execution_count": 2,
   "metadata": {
    "colab": {
     "base_uri": "https://localhost:8080/",
     "height": 144
    },
    "id": "6gvuxeDFgqiS",
    "outputId": "ddb51ada-028a-4715-b216-5fcb42220e16"
   },
   "outputs": [
    {
     "data": {
      "text/html": [
       "<div>\n",
       "<style scoped>\n",
       "    .dataframe tbody tr th:only-of-type {\n",
       "        vertical-align: middle;\n",
       "    }\n",
       "\n",
       "    .dataframe tbody tr th {\n",
       "        vertical-align: top;\n",
       "    }\n",
       "\n",
       "    .dataframe thead th {\n",
       "        text-align: right;\n",
       "    }\n",
       "</style>\n",
       "<table border=\"1\" class=\"dataframe\">\n",
       "  <thead>\n",
       "    <tr style=\"text-align: right;\">\n",
       "      <th></th>\n",
       "      <th>nombre</th>\n",
       "      <th>edad</th>\n",
       "    </tr>\n",
       "  </thead>\n",
       "  <tbody>\n",
       "    <tr>\n",
       "      <th>0</th>\n",
       "      <td>Alicia</td>\n",
       "      <td>25</td>\n",
       "    </tr>\n",
       "    <tr>\n",
       "      <th>1</th>\n",
       "      <td>Marcela</td>\n",
       "      <td>30</td>\n",
       "    </tr>\n",
       "    <tr>\n",
       "      <th>2</th>\n",
       "      <td>Pedro</td>\n",
       "      <td>35</td>\n",
       "    </tr>\n",
       "    <tr>\n",
       "      <th>3</th>\n",
       "      <td>Luis</td>\n",
       "      <td>53</td>\n",
       "    </tr>\n",
       "    <tr>\n",
       "      <th>4</th>\n",
       "      <td>Santiago</td>\n",
       "      <td>30</td>\n",
       "    </tr>\n",
       "  </tbody>\n",
       "</table>\n",
       "</div>"
      ],
      "text/plain": [
       "     nombre  edad\n",
       "0    Alicia    25\n",
       "1   Marcela    30\n",
       "2     Pedro    35\n",
       "3      Luis    53\n",
       "4  Santiago    30"
      ]
     },
     "execution_count": 2,
     "metadata": {},
     "output_type": "execute_result"
    }
   ],
   "source": [
    "import pandas as pd\n",
    "import sqlite3 as sql\n",
    "\n",
    "data={'nombre': ['Alicia', 'Marcela', 'Pedro', 'Luis','Santiago'],\n",
    "      'edad': [25,30,35, 53, 30]}\n",
    "df=pd.DataFrame(data)\n",
    "df.head()\n"
   ]
  },
  {
   "cell_type": "code",
   "execution_count": 3,
   "metadata": {
    "id": "APUE7vHBxrJc"
   },
   "outputs": [],
   "source": [
    "conn=sql.connect('base_2.db')\n",
    "df.to_sql('personas', conn, if_exists=\"replace\", index=False)\n",
    "conn.close()"
   ]
  },
  {
   "cell_type": "code",
   "execution_count": 4,
   "metadata": {
    "colab": {
     "base_uri": "https://localhost:8080/"
    },
    "id": "ZLUbviqnybMi",
    "outputId": "f28fb417-c41b-4a5d-a54c-892422bc16c3"
   },
   "outputs": [
    {
     "name": "stdout",
     "output_type": "stream",
     "text": [
      "Me conecte a la base de datos\n",
      "[('Alicia', 25), ('Marcela', 30), ('Pedro', 35), ('Luis', 53), ('Santiago', 30)]\n"
     ]
    }
   ],
   "source": [
    "conn=sql.connect('base_2.db')\n",
    "print(\"Me conecte a la base de datos\")\n",
    "cursor=conn.cursor()\n",
    "query=f\"SELECT * FROM personas;\"\n",
    "cursor.execute(query)\n",
    "datos=cursor.fetchall()\n",
    "conn.commit()\n",
    "print(datos)\n",
    "conn.close()\n"
   ]
  },
  {
   "cell_type": "code",
   "execution_count": null,
   "metadata": {
    "id": "6TUHGv2TznEY"
   },
   "outputs": [],
   "source": []
  }
 ],
 "metadata": {
  "colab": {
   "authorship_tag": "ABX9TyO7yssGhQvFE6EFRrzNYwiq",
   "include_colab_link": true,
   "provenance": []
  },
  "kernelspec": {
   "display_name": "Python 3 (ipykernel)",
   "language": "python",
   "name": "python3"
  },
  "language_info": {
   "codemirror_mode": {
    "name": "ipython",
    "version": 3
   },
   "file_extension": ".py",
   "mimetype": "text/x-python",
   "name": "python",
   "nbconvert_exporter": "python",
   "pygments_lexer": "ipython3",
   "version": "3.10.9"
  }
 },
 "nbformat": 4,
 "nbformat_minor": 1
}
